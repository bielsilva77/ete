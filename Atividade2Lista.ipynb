{
  "cells": [
    {
      "cell_type": "markdown",
      "metadata": {
        "id": "view-in-github",
        "colab_type": "text"
      },
      "source": [
        "<a href=\"https://colab.research.google.com/github/bielsilva77/ete/blob/main/Atividade2Lista.ipynb\" target=\"_parent\"><img src=\"https://colab.research.google.com/assets/colab-badge.svg\" alt=\"Open In Colab\"/></a>"
      ]
    },
    {
      "cell_type": "code",
      "source": [
        "# Crie uma lista de compras de um supermercado com 10 elementos.\n",
        "lista_compras = ['arroz', 'feijão', 'macarrão', 'óleo', 'sal', 'açúcar', 'leite', 'pão', 'frango', 'carne']\n",
        "print (lista_compras)\n",
        "# Na posição 6 crie uma lista com 5 elementos.\n",
        "lista2 = ['maçã', 'banana', 'abacaxi', 'uva', 'pêra']\n",
        "lista_compras.insert (6, lista2)\n",
        "print (lista_compras)\n",
        "# Altere 2 elementos da lista.\n",
        "lista_compras [2] = 'feijoada'\n",
        "lista_compras [3] = 'macarronada'\n",
        "print (lista_compras)\n",
        "# Exclua 3 elementos da lista.\n",
        "lista_compras.pop(0)\n",
        "lista_compras.pop(1)\n",
        "lista_compras.pop(2)\n",
        "print (lista_compras)\n",
        "# Adicione 4 elementos na lista.\n",
        "lista_compras.append ('arroz')\n",
        "lista_compras.append ('feijão')\n",
        "lista_compras.append ('macarrão')\n",
        "lista_compras.append ('óleo')\n",
        "print (lista_compras)\n",
        "# Acesse o terceiro e quinto elemento da lista.\n",
        "print (lista_compras [2])\n",
        "print (lista_compras [4])\n",
        "# Mostre o número de elementos da lista.\n",
        "print (len(lista_compras))\n",
        "# Mostre todos os elementos da lista.\n",
        "print (lista_compras)\n"
      ],
      "metadata": {
        "colab": {
          "base_uri": "https://localhost:8080/"
        },
        "id": "pcrvA6AK3_ld",
        "outputId": "4afd70cd-2d68-4704-dd6d-189975bbdc94"
      },
      "execution_count": 18,
      "outputs": [
        {
          "output_type": "stream",
          "name": "stdout",
          "text": [
            "['arroz', 'feijão', 'macarrão', 'óleo', 'sal', 'açúcar', 'leite', 'pão', 'frango', 'carne']\n",
            "['arroz', 'feijão', 'macarrão', 'óleo', 'sal', 'açúcar', ['maçã', 'banana', 'abacaxi', 'uva', 'pêra'], 'leite', 'pão', 'frango', 'carne']\n",
            "['arroz', 'feijão', 'feijoada', 'macarronada', 'sal', 'açúcar', ['maçã', 'banana', 'abacaxi', 'uva', 'pêra'], 'leite', 'pão', 'frango', 'carne']\n",
            "['feijão', 'macarronada', 'açúcar', ['maçã', 'banana', 'abacaxi', 'uva', 'pêra'], 'leite', 'pão', 'frango', 'carne']\n",
            "['feijão', 'macarronada', 'açúcar', ['maçã', 'banana', 'abacaxi', 'uva', 'pêra'], 'leite', 'pão', 'frango', 'carne', 'arroz', 'feijão', 'macarrão', 'óleo']\n",
            "açúcar\n",
            "leite\n",
            "12\n",
            "['feijão', 'macarronada', 'açúcar', ['maçã', 'banana', 'abacaxi', 'uva', 'pêra'], 'leite', 'pão', 'frango', 'carne', 'arroz', 'feijão', 'macarrão', 'óleo']\n"
          ]
        }
      ]
    }
  ],
  "metadata": {
    "colab": {
      "provenance": [],
      "include_colab_link": true
    },
    "kernelspec": {
      "display_name": "Python 3",
      "name": "python3"
    }
  },
  "nbformat": 4,
  "nbformat_minor": 0
}